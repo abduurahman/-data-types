{
 "cells": [
  {
   "cell_type": "markdown",
   "id": "f1c17547",
   "metadata": {},
   "source": [
    " Defining Functions in Python"
   ]
  },
  {
   "cell_type": "code",
   "execution_count": 18,
   "id": "1204eb33",
   "metadata": {},
   "outputs": [
    {
     "name": "stdout",
     "output_type": "stream",
     "text": [
      "Hello!\n"
     ]
    }
   ],
   "source": [
    "# we use the def keyword to difine function we didnot use another word to difine a function\n",
    "#we use the greet as a name of function\n",
    "\n",
    "def greet():\n",
    "    print (\"Hello!\")\n",
    "\n",
    "greet()"
   ]
  },
  {
   "cell_type": "markdown",
   "id": "d7bbf925",
   "metadata": {},
   "source": [
    " Positional Arguments and key word arguments\n",
    "\n"
   ]
  },
  {
   "cell_type": "code",
   "execution_count": null,
   "id": "2a0f76b0",
   "metadata": {},
   "outputs": [
    {
     "name": "stdout",
     "output_type": "stream",
     "text": [
      "7\n"
     ]
    }
   ],
   "source": [
    "def add (a , b):\n",
    "    print(a + b)\n",
    "    \n",
    "add(3 , 4) # keyword arguments"
   ]
  },
  {
   "cell_type": "markdown",
   "id": "92b9903a",
   "metadata": {},
   "source": [
    "returning from function"
   ]
  },
  {
   "cell_type": "code",
   "execution_count": 29,
   "id": "ec9c72dc",
   "metadata": {},
   "outputs": [
    {
     "data": {
      "text/plain": [
       "25"
      ]
     },
     "execution_count": 29,
     "metadata": {},
     "output_type": "execute_result"
    }
   ],
   "source": [
    "def square(x):\n",
    "    return  x*x\n",
    "square (5)"
   ]
  },
  {
   "cell_type": "markdown",
   "id": "546d6e5f",
   "metadata": {},
   "source": [
    "Returning Values"
   ]
  },
  {
   "cell_type": "code",
   "execution_count": 40,
   "id": "ea82f8ca",
   "metadata": {},
   "outputs": [
    {
     "data": {
      "text/plain": [
       "[1, 2]"
      ]
     },
     "execution_count": 40,
     "metadata": {},
     "output_type": "execute_result"
    }
   ],
   "source": [
    "def get():\n",
    "    return [1, 2, 3, 4]\n",
    "    \n",
    "get()[0:2]"
   ]
  },
  {
   "cell_type": "markdown",
   "id": "2fcf6509",
   "metadata": {},
   "source": [
    "Exiting Functions Early"
   ]
  },
  {
   "cell_type": "code",
   "execution_count": 50,
   "id": "6ce76b7f",
   "metadata": {},
   "outputs": [
    {
     "data": {
      "text/plain": [
       "'too small'"
      ]
     },
     "execution_count": 50,
     "metadata": {},
     "output_type": "execute_result"
    }
   ],
   "source": [
    "def check_value(x):\n",
    "    if x < 10:\n",
    "        return \"too small\"\n",
    "    return\"ok\"\n",
    "check_value(5)\n"
   ]
  },
  {
   "cell_type": "markdown",
   "id": "e76e7588",
   "metadata": {},
   "source": [
    "Returning Boolean Values"
   ]
  },
  {
   "cell_type": "code",
   "execution_count": 58,
   "id": "b8944cf7",
   "metadata": {},
   "outputs": [
    {
     "data": {
      "text/plain": [
       "True"
      ]
     },
     "execution_count": 58,
     "metadata": {},
     "output_type": "execute_result"
    }
   ],
   "source": [
    "def is_even(x):\n",
    "    return x%2 ==0\n",
    "is_even(56)\n",
    "# it well chick the number which number is divide by 2 those number or true other wise false\n",
    "    "
   ]
  },
  {
   "cell_type": "markdown",
   "id": "a4d741a1",
   "metadata": {},
   "source": [
    "Returning Generator Iterat"
   ]
  },
  {
   "cell_type": "code",
   "execution_count": 64,
   "id": "6a702190",
   "metadata": {},
   "outputs": [
    {
     "data": {
      "text/plain": [
       "[1, 2, 3]"
      ]
     },
     "execution_count": 64,
     "metadata": {},
     "output_type": "execute_result"
    }
   ],
   "source": [
    "def count_up_to(n):\n",
    "    for i in range(1, n + 1):\n",
    "       \n",
    "     yield i\n",
    "list(count_up_to(3))"
   ]
  },
  {
   "cell_type": "markdown",
   "id": "3ddda27f",
   "metadata": {},
   "source": [
    "Default Argument Values"
   ]
  },
  {
   "cell_type": "code",
   "execution_count": 71,
   "id": "18b1db09",
   "metadata": {},
   "outputs": [
    {
     "data": {
      "text/plain": [
       "'Hello, Ali'"
      ]
     },
     "execution_count": 71,
     "metadata": {},
     "output_type": "execute_result"
    }
   ],
   "source": [
    "def greet(name=\"Guest\"):\n",
    "    return f\"Hello, {name}\"\n",
    "\n",
    "greet()     \n",
    "greet(\"Ali\") "
   ]
  },
  {
   "cell_type": "markdown",
   "id": "9f5c5f54",
   "metadata": {},
   "source": [
    "Variable Positional Arguments"
   ]
  },
  {
   "cell_type": "code",
   "execution_count": 73,
   "id": "f59adccf",
   "metadata": {},
   "outputs": [
    {
     "data": {
      "text/plain": [
       "10"
      ]
     },
     "execution_count": 73,
     "metadata": {},
     "output_type": "execute_result"
    }
   ],
   "source": [
    "def total(*args):\n",
    "    return sum(args)\n",
    "\n",
    "total(1, 2, 3, 4)"
   ]
  },
  {
   "cell_type": "code",
   "execution_count": null,
   "id": "017a480e",
   "metadata": {},
   "outputs": [],
   "source": []
  }
 ],
 "metadata": {
  "kernelspec": {
   "display_name": "base",
   "language": "python",
   "name": "python3"
  },
  "language_info": {
   "codemirror_mode": {
    "name": "ipython",
    "version": 3
   },
   "file_extension": ".py",
   "mimetype": "text/x-python",
   "name": "python",
   "nbconvert_exporter": "python",
   "pygments_lexer": "ipython3",
   "version": "3.13.5"
  }
 },
 "nbformat": 4,
 "nbformat_minor": 5
}
