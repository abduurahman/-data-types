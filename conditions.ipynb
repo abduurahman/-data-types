{
 "cells": [
  {
   "cell_type": "code",
   "execution_count": null,
   "id": "06309b21",
   "metadata": {},
   "outputs": [],
   "source": [
    "x= 10\n",
    "if x>5\n",
    "print(x is greater )"
   ]
  }
 ],
 "metadata": {
  "language_info": {
   "name": "python"
  }
 },
 "nbformat": 4,
 "nbformat_minor": 5
}
