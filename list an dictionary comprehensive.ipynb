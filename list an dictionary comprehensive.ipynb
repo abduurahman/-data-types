{
 "cells": [
  {
   "cell_type": "markdown",
   "id": "e75f3235",
   "metadata": {},
   "source": [
    "Transforming Lists in Python"
   ]
  },
  {
   "cell_type": "code",
   "execution_count": null,
   "id": "1c345d83",
   "metadata": {},
   "outputs": [],
   "source": [
    "#When we say transforming a list, we mean taking each item in the list and changing it"
   ]
  },
  {
   "cell_type": "markdown",
   "id": "9c226536",
   "metadata": {},
   "source": [
    " Use for Loops"
   ]
  },
  {
   "cell_type": "code",
   "execution_count": 7,
   "id": "a0832fba",
   "metadata": {},
   "outputs": [
    {
     "name": "stdout",
     "output_type": "stream",
     "text": [
      "[1]\n",
      "[1, 4]\n",
      "[1, 4, 9]\n",
      "[1, 4, 9, 16]\n",
      "[1, 4, 9, 16, 25]\n"
     ]
    }
   ],
   "source": [
    "numbers=[1,2,3,4,5]\n",
    "squared=[]#empty list\n",
    "for n in numbers:\n",
    "    squared.append(n**2)\n",
    "    \n",
    "    print (squared)"
   ]
  },
  {
   "cell_type": "markdown",
   "id": "9775873b",
   "metadata": {},
   "source": [
    "Work With map() Objects"
   ]
  },
  {
   "cell_type": "code",
   "execution_count": 9,
   "id": "c5709e02",
   "metadata": {},
   "outputs": [
    {
     "name": "stdout",
     "output_type": "stream",
     "text": [
      "[1, 4, 9, 16]\n"
     ]
    }
   ],
   "source": [
    "numbers=[1,2,3,4]\n",
    "squared = list(map(lambda n: n ** 2, numbers))\n",
    "print(squared)"
   ]
  },
  {
   "cell_type": "markdown",
   "id": "8361c57b",
   "metadata": {},
   "source": [
    "Leverage List Comprehensions"
   ]
  },
  {
   "cell_type": "code",
   "execution_count": 10,
   "id": "90c99c06",
   "metadata": {},
   "outputs": [
    {
     "name": "stdout",
     "output_type": "stream",
     "text": [
      "[1, 4, 9, 16]\n"
     ]
    }
   ],
   "source": [
    "numbers=[1,2,3,4]\n",
    "squared=[n**2 for n in numbers]\n",
    "print (squared)"
   ]
  },
  {
   "cell_type": "markdown",
   "id": "e9739164",
   "metadata": {},
   "source": [
    "Filter Values From a List"
   ]
  },
  {
   "cell_type": "code",
   "execution_count": 11,
   "id": "46f4720b",
   "metadata": {},
   "outputs": [
    {
     "name": "stdout",
     "output_type": "stream",
     "text": [
      "[2, 4, 6]\n"
     ]
    }
   ],
   "source": [
    "#in this type of list we can add if condition\n",
    "numbers=[1,2,3,4,5,6]\n",
    "even =[n for n in numbers if n%2==0]\n",
    "print(even)"
   ]
  },
  {
   "cell_type": "markdown",
   "id": "d3510352",
   "metadata": {},
   "source": [
    "Remove Duplicates With Set and Dictionary Comprehensions"
   ]
  },
  {
   "cell_type": "code",
   "execution_count": 19,
   "id": "37bf0fe6",
   "metadata": {},
   "outputs": [
    {
     "name": "stdout",
     "output_type": "stream",
     "text": [
      "{1, 2, 3, 4, 5, 6}\n"
     ]
    }
   ],
   "source": [
    "numbers=[1,2,3,3,4,5,6]\n",
    "unique ={n for n in numbers}\n",
    "print(unique)"
   ]
  },
  {
   "cell_type": "markdown",
   "id": "5c7ec174",
   "metadata": {},
   "source": [
    "Watch Out for Nested Comprehensions"
   ]
  },
  {
   "cell_type": "code",
   "execution_count": 23,
   "id": "6eb67975",
   "metadata": {},
   "outputs": [
    {
     "name": "stdout",
     "output_type": "stream",
     "text": [
      "[1, 2, 3, 4]\n"
     ]
    }
   ],
   "source": [
    "# a nested comprehensive is a comprehensive when you put one in another\n",
    "matrix=[[1,2],[3,4]]\n",
    "flat = [num for row in matrix for num in row]\n",
    "print(flat)  "
   ]
  },
  {
   "cell_type": "markdown",
   "id": "e7652425",
   "metadata": {},
   "source": [
    "Profile to Optimize Performance"
   ]
  },
  {
   "cell_type": "code",
   "execution_count": null,
   "id": "91fb65e0",
   "metadata": {},
   "outputs": [],
   "source": [
    "#If your list comprehension is slow, you can measure its speed with timeit\n"
   ]
  }
 ],
 "metadata": {
  "kernelspec": {
   "display_name": "base",
   "language": "python",
   "name": "python3"
  },
  "language_info": {
   "codemirror_mode": {
    "name": "ipython",
    "version": 3
   },
   "file_extension": ".py",
   "mimetype": "text/x-python",
   "name": "python",
   "nbconvert_exporter": "python",
   "pygments_lexer": "ipython3",
   "version": "3.13.5"
  }
 },
 "nbformat": 4,
 "nbformat_minor": 5
}
