{
 "cells": [
  {
   "cell_type": "code",
   "execution_count": null,
   "id": "713ac44a",
   "metadata": {},
   "outputs": [],
   "source": []
  },
  {
   "cell_type": "markdown",
   "id": "bca0c9d9",
   "metadata": {},
   "source": [
    "Creating Lists in Python\n"
   ]
  },
  {
   "cell_type": "code",
   "execution_count": 2,
   "id": "e250d68d",
   "metadata": {},
   "outputs": [
    {
     "name": "stdout",
     "output_type": "stream",
     "text": [
      "apple\n",
      "banana\n",
      "cherry\n"
     ]
    }
   ],
   "source": [
    "fruits = [\"apple\", \"banana\", \"cherry\"]\n",
    "for fruit in fruits:\n",
    "    print(fruit)"
   ]
  },
  {
   "cell_type": "markdown",
   "id": "451b5541",
   "metadata": {},
   "source": [
    "Creating Tuples in Python"
   ]
  },
  {
   "cell_type": "code",
   "execution_count": 5,
   "id": "1620823c",
   "metadata": {},
   "outputs": [
    {
     "name": "stdout",
     "output_type": "stream",
     "text": [
      "red\n",
      "green\n",
      "blue\n"
     ]
    }
   ],
   "source": [
    "colors = (\"red\", \"green\", \"blue\")\n",
    "\n",
    "# Print all items\n",
    "for color in colors:\n",
    "    print(color)\n",
    "    #but the main defference between tupel and list is tuple value cannot change"
   ]
  },
  {
   "cell_type": "markdown",
   "id": "1c4d5d69",
   "metadata": {},
   "source": [
    "Lists and Tuples Are Ordered Sequences\n",
    "\n"
   ]
  },
  {
   "cell_type": "code",
   "execution_count": 6,
   "id": "075d2e82",
   "metadata": {},
   "outputs": [
    {
     "name": "stdout",
     "output_type": "stream",
     "text": [
      "apple\n",
      "banana\n"
     ]
    }
   ],
   "source": [
    "fruits_list = [\"apple\", \"banana\", \"cherry\"]\n",
    "fruits_tuple = (\"apple\", \"banana\", \"cherry\")\n",
    "\n",
    "# we can acces data by index\n",
    "print(fruits_list[0])   \n",
    "print(fruits_tuple[1])"
   ]
  },
  {
   "cell_type": "markdown",
   "id": "a59100eb",
   "metadata": {},
   "source": [
    "Lists and Tuples Can Contain Arbitrary Objects\n",
    "\n"
   ]
  },
  {
   "cell_type": "code",
   "execution_count": null,
   "id": "79d9c290",
   "metadata": {},
   "outputs": [
    {
     "name": "stdout",
     "output_type": "stream",
     "text": [
      "['hello', 3.14]\n",
      "(42, [1, 2, 3], 'text', None)\n"
     ]
    }
   ],
   "source": [
    "my_list = [1, \"hello\", 3.14, True]\n",
    "my_tuple = (42, [1, 2, 3], \"text\", None)\n",
    "#list and tuple can contain any data type\n",
    "print(my_list[1:3])\n",
    "print(my_tuple)"
   ]
  },
  {
   "cell_type": "markdown",
   "id": "c467fe26",
   "metadata": {},
   "source": [
    "Lists and Tuples Can Be Indexed and Sliced\n"
   ]
  },
  {
   "cell_type": "code",
   "execution_count": 12,
   "id": "a4ce5806",
   "metadata": {},
   "outputs": [
    {
     "name": "stdout",
     "output_type": "stream",
     "text": [
      "[20, 30, 40]\n",
      "(100, 200, 300)\n"
     ]
    }
   ],
   "source": [
    "nums = [10, 20, 30, 40, 50]\n",
    "tup = (100, 200, 300, 400, 500)\n",
    "\n",
    "print(nums[1:4])  # \n",
    "print(tup[:3])"
   ]
  },
  {
   "cell_type": "markdown",
   "id": "75a172f5",
   "metadata": {},
   "source": [
    "Lists and Tuples Can Be Nested\n",
    "\n"
   ]
  },
  {
   "cell_type": "code",
   "execution_count": 14,
   "id": "07f8d02c",
   "metadata": {},
   "outputs": [
    {
     "name": "stdout",
     "output_type": "stream",
     "text": [
      "[2, 34]\n",
      "50\n"
     ]
    }
   ],
   "source": [
    "nested_list = [1, [2, 34],[4, 5]]\n",
    "nested_tuple = (10, (20, 30), (40, 50))\n",
    "\n",
    "print(nested_list[1])     \n",
    "print(nested_tuple[2][1])"
   ]
  },
  {
   "cell_type": "markdown",
   "id": "33b50880",
   "metadata": {},
   "source": [
    "Lists Are Mutable, Tuples Are Immutable\n"
   ]
  },
  {
   "cell_type": "code",
   "execution_count": 17,
   "id": "fc5c79ef",
   "metadata": {},
   "outputs": [
    {
     "name": "stdout",
     "output_type": "stream",
     "text": [
      "[10, 2, 3]\n",
      "(1, 2, 3)\n"
     ]
    }
   ],
   "source": [
    "my_list = [1, 2, 3]\n",
    "my_list[0] = 10     # ✅ allowed\n",
    "\n",
    "my_tuple = (1, 2, 3)\n",
    "#my_tuple[0] = 10 #❌ Error: tuples are immutable\n",
    "\n",
    "print(my_list)\n",
    "print(my_tuple)\n"
   ]
  },
  {
   "cell_type": "markdown",
   "id": "a6c115eb",
   "metadata": {},
   "source": [
    "Lists Have Mutator Methods, Tuples Don’t"
   ]
  },
  {
   "cell_type": "code",
   "execution_count": 18,
   "id": "8e110098",
   "metadata": {},
   "outputs": [
    {
     "name": "stdout",
     "output_type": "stream",
     "text": [
      "[1, 2, 3, 4]\n",
      "(1, 2, 3)\n"
     ]
    }
   ],
   "source": [
    "my_list = [1, 2, 3]\n",
    "my_list.append(4)     # ✅ adds 4\n",
    "\n",
    "my_tuple = (1, 2, 3)\n",
    "# my_tuple.append(4)  ❌ Error: 'tuple' object has no attribute 'append'\n",
    "\n",
    "print(my_list)\n",
    "print(my_tuple)"
   ]
  },
  {
   "cell_type": "markdown",
   "id": "5dbeedc5",
   "metadata": {},
   "source": [
    "Using Operators and Built-in Functions With Lists and Tuples\n"
   ]
  },
  {
   "cell_type": "code",
   "execution_count": 19,
   "id": "787fbe73",
   "metadata": {},
   "outputs": [
    {
     "name": "stdout",
     "output_type": "stream",
     "text": [
      "[1, 2, 3, 4]\n",
      "(10, 20, 30, 40)\n"
     ]
    }
   ],
   "source": [
    "# Lists\n",
    "a = [1, 2]\n",
    "b = [3, 4]\n",
    "print(a + b)  \n",
    "\n",
    "# Tuples\n",
    "x = (10, 20)\n",
    "y = (30, 40)\n",
    "print(x + y)  \n"
   ]
  },
  {
   "cell_type": "markdown",
   "id": "d73fcfac",
   "metadata": {},
   "source": [
    "Packing and Unpacking Lists and Tuples\n",
    "\n",
    "\n",
    "\n"
   ]
  },
  {
   "cell_type": "code",
   "execution_count": 20,
   "id": "435a8709",
   "metadata": {},
   "outputs": [
    {
     "name": "stdout",
     "output_type": "stream",
     "text": [
      "10 20 30\n",
      "1 2 3\n"
     ]
    }
   ],
   "source": [
    "#Packing: Putting multiple values into a single list or tuple.\n",
    "\n",
    "#npacking: Taking values out and assigning them to variables.\n",
    "packed_tuple = (10, 20, 30)\n",
    "packed_list = [1, 2, 3]\n",
    "\n",
    "# Unpacking\n",
    "a, b, c = packed_tuple\n",
    "x, y, z = packed_list\n",
    "\n",
    "print(a, b, c)   \n",
    "print(x, y, z)   "
   ]
  },
  {
   "cell_type": "markdown",
   "id": "4f54910d",
   "metadata": {},
   "source": [
    "Using Lists vs Tuples in Python\n",
    "\n",
    "\n"
   ]
  },
  {
   "cell_type": "code",
   "execution_count": 21,
   "id": "888c0f6f",
   "metadata": {},
   "outputs": [
    {
     "name": "stdout",
     "output_type": "stream",
     "text": [
      "['read', 'write', 'code']\n",
      "(50.0, 30.5)\n"
     ]
    }
   ],
   "source": [
    "tasks = [\"read\", \"write\"]\n",
    "tasks.append(\"code\")\n",
    "print(tasks)\n",
    "\n",
    "# Tuple: good for fixed data\n",
    "coordinates = (50.0, 30.5)\n",
    "# coordinates[0] = 60.0  ❌ Error: tuples are immutable\n",
    "print(coordinates)"
   ]
  }
 ],
 "metadata": {
  "kernelspec": {
   "display_name": "base",
   "language": "python",
   "name": "python3"
  },
  "language_info": {
   "codemirror_mode": {
    "name": "ipython",
    "version": 3
   },
   "file_extension": ".py",
   "mimetype": "text/x-python",
   "name": "python",
   "nbconvert_exporter": "python",
   "pygments_lexer": "ipython3",
   "version": "3.13.5"
  }
 },
 "nbformat": 4,
 "nbformat_minor": 5
}
