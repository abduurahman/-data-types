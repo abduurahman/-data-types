{
 "cells": [
  {
   "cell_type": "markdown",
   "id": "68a899b7",
   "metadata": {},
   "source": [
    "introduction to the if statement\n"
   ]
  },
  {
   "cell_type": "code",
   "execution_count": 2,
   "id": "6e59cd1b",
   "metadata": {},
   "outputs": [
    {
     "name": "stdout",
     "output_type": "stream",
     "text": [
      "x is greater than 5\n"
     ]
    }
   ],
   "source": [
    "x = 10\n",
    "\n",
    "if x > 5:\n",
    "    print(\"x is greater than 5\")\n"
   ]
  },
  {
   "cell_type": "code",
   "execution_count": null,
   "id": "065ebf0c",
   "metadata": {},
   "outputs": [],
   "source": []
  },
  {
   "cell_type": "code",
   "execution_count": 8,
   "id": "561a8485",
   "metadata": {},
   "outputs": [
    {
     "name": "stdout",
     "output_type": "stream",
     "text": [
      "yes this is fruits\n"
     ]
    }
   ],
   "source": [
    "fruits=[\"banana\",\"apple\",\"mango\"]\n",
    "if \"banana\"  in fruits:\n",
    "    print(\"yes this is fruits\")"
   ]
  },
  {
   "cell_type": "code",
   "execution_count": 9,
   "id": "085b8569",
   "metadata": {},
   "outputs": [
    {
     "name": "stdout",
     "output_type": "stream",
     "text": [
      "Banana is in the list\n"
     ]
    }
   ],
   "source": [
    "fruits = [\"apple\", \"banana\", \"cherry\"]\n",
    "\n",
    "if \"banana\" in fruits:\n",
    "    print(\"Banana is in the list\")\n"
   ]
  },
  {
   "cell_type": "markdown",
   "id": "906415cc",
   "metadata": {},
   "source": [
    "Indentation and Blocks\n"
   ]
  },
  {
   "cell_type": "code",
   "execution_count": 10,
   "id": "01e135e4",
   "metadata": {},
   "outputs": [
    {
     "name": "stdout",
     "output_type": "stream",
     "text": [
      "x is greater than 5\n",
      "This also runs if x > 5\n"
     ]
    }
   ],
   "source": [
    "x = 10\n",
    "\n",
    "if x > 5:\n",
    "    print(\"x is greater than 5\")  # indented line is part of the if block\n",
    "    print(\"This also runs if x > 5\")"
   ]
  },
  {
   "cell_type": "code",
   "execution_count": 11,
   "id": "00b0b08c",
   "metadata": {},
   "outputs": [
    {
     "name": "stdout",
     "output_type": "stream",
     "text": [
      "Hello, Ali\n"
     ]
    }
   ],
   "source": [
    "def greet(name):\n",
    "    print(\"Hello,\", name)  # This must be indented under the function\n",
    "\n",
    "greet(\"Ali\")"
   ]
  },
  {
   "cell_type": "markdown",
   "id": "8837b405",
   "metadata": {},
   "source": [
    " Python: It’s All About the Indentation"
   ]
  },
  {
   "cell_type": "code",
   "execution_count": null,
   "id": "2fe65c9d",
   "metadata": {},
   "outputs": [
    {
     "name": "stdout",
     "output_type": "stream",
     "text": [
      "x is greater than 5\n",
      "This also runs\n",
      "This is outside the if\n"
     ]
    }
   ],
   "source": [
    "#Python uses indentation instead of braces {} or keywords to show code blocks. It's not optional\n",
    "#Indentation means adding spaces or a tab at the beginning of a line of code.\n",
    "x = 7\n",
    "\n",
    "if x > 5:\n",
    "    print(\"x is greater than 5\")  # indented → inside the if block\n",
    "    print(\"This also runs\")  # same block\n",
    "    \n",
    "print(\"This is outside the if\")   # not indented → runs always"
   ]
  },
  {
   "cell_type": "markdown",
   "id": "be010e98",
   "metadata": {},
   "source": [
    " What Do Other Languages Do?"
   ]
  },
  {
   "cell_type": "code",
   "execution_count": 29,
   "id": "18fc3df2",
   "metadata": {},
   "outputs": [],
   "source": [
    "#Languages like C, Java, and JavaScript use braces {} to mark code blocks, and indentation is optional \n",
    "#example in c++\n",
    "##include <iostream>\n",
    "#using namespace std;\n",
    "\n",
    "#int main() {\n",
    "    #int x = 10;\n",
    "\n",
    "    #if (x > 5) {\n",
    "      #  cout << \"x is greater than 5\" << endl;\n",
    "       # cout << \"This is inside the if block\" << endl;\n",
    "   # }\n",
    "\n",
    "    #cout << \"This is outside the if block\" << endl;\n",
    "\n",
    "   # return 0;\n",
    "#}"
   ]
  },
  {
   "cell_type": "markdown",
   "id": "06d6cd4a",
   "metadata": {},
   "source": [
    "The else and elif Clauses in Python"
   ]
  },
  {
   "cell_type": "code",
   "execution_count": 39,
   "id": "f7f6ac2b",
   "metadata": {},
   "outputs": [
    {
     "name": "stdout",
     "output_type": "stream",
     "text": [
      "x is grater than 5\n"
     ]
    }
   ],
   "source": [
    "#if statement\n",
    "x = 10\n",
    "\n",
    "if x > 5:\n",
    " print (\"x is grater than 5\")"
   ]
  },
  {
   "cell_type": "code",
   "execution_count": null,
   "id": "38a739fe",
   "metadata": {},
   "outputs": [
    {
     "name": "stdout",
     "output_type": "stream",
     "text": [
      "x is 5 or less\n"
     ]
    }
   ],
   "source": [
    "#if + else\n",
    "x = 10\n",
    "if x > 15:\n",
    "    print(\"x is grater  than 5\")\n",
    "else:\n",
    "    print(\"x is 5 or less\")"
   ]
  },
  {
   "cell_type": "code",
   "execution_count": 45,
   "id": "b16ee000",
   "metadata": {},
   "outputs": [
    {
     "name": "stdout",
     "output_type": "stream",
     "text": [
      "x is grater  than 5\n"
     ]
    }
   ],
   "source": [
    "#if + else\n",
    "x = 10\n",
    "if x > 5:\n",
    "    print(\"x is grater  than 5\")\n",
    "else:\n",
    "    print(\"x is 5 or less\")"
   ]
  },
  {
   "cell_type": "code",
   "execution_count": 50,
   "id": "91988591",
   "metadata": {},
   "outputs": [
    {
     "name": "stdout",
     "output_type": "stream",
     "text": [
      "x is equal to 5\n"
     ]
    }
   ],
   "source": [
    "#if + elif\n",
    "x = 5\n",
    "if x >5:\n",
    "    print(\"x is grater  than 5\")\n",
    "elif x ==5:\n",
    "    print(\"x is equal to 5\")"
   ]
  },
  {
   "cell_type": "code",
   "execution_count": 52,
   "id": "7a935dac",
   "metadata": {},
   "outputs": [
    {
     "name": "stdout",
     "output_type": "stream",
     "text": [
      "x is greater than 5\n"
     ]
    }
   ],
   "source": [
    "x = 15\n",
    "\n",
    "if x > 5:\n",
    "    print(\"x is greater than 5\")\n",
    "elif x == 5:\n",
    "    print(\"x is equal to 5\")"
   ]
  },
  {
   "cell_type": "code",
   "execution_count": 60,
   "id": "d4cd8cc1",
   "metadata": {},
   "outputs": [
    {
     "name": "stdout",
     "output_type": "stream",
     "text": [
      "5 is greater than x\n"
     ]
    }
   ],
   "source": [
    "#if + else + elif\n",
    "x = 2\n",
    "if x > 5:\n",
    "    print(\"x is less than 5\")\n",
    "elif x==5:\n",
    "    print ( \"x is equal to 2\")\n",
    "else :\n",
    "    print(\"5 is greater than x\")"
   ]
  },
  {
   "cell_type": "markdown",
   "id": "ac11a9b7",
   "metadata": {},
   "source": [
    "One-Line if Statements"
   ]
  },
  {
   "cell_type": "code",
   "execution_count": null,
   "id": "d8dada74",
   "metadata": {},
   "outputs": [
    {
     "name": "stdout",
     "output_type": "stream",
     "text": [
      "x is is equall to  5\n"
     ]
    }
   ],
   "source": [
    "# one line if statement\n",
    "x = 5\n",
    "if x== 5: print (\"x is is equall to  5\")"
   ]
  },
  {
   "cell_type": "code",
   "execution_count": 65,
   "id": "251f2e9d",
   "metadata": {},
   "outputs": [
    {
     "name": "stdout",
     "output_type": "stream",
     "text": [
      "x is greater than 5\n"
     ]
    }
   ],
   "source": [
    "# multiple line if statement\n",
    "x = 10\n",
    "\n",
    "if x > 5: \n",
    "     print(\"x is greater than 5\")"
   ]
  },
  {
   "cell_type": "markdown",
   "id": "d264cfd6",
   "metadata": {},
   "source": [
    "Conditional Expressions "
   ]
  },
  {
   "cell_type": "code",
   "execution_count": 67,
   "id": "a343821f",
   "metadata": {},
   "outputs": [
    {
     "name": "stdout",
     "output_type": "stream",
     "text": [
      "High\n"
     ]
    }
   ],
   "source": [
    "x = 7\n",
    "\n",
    "result = \"High\" if x > 5 else \"Low\"\n",
    "print(result)"
   ]
  }
 ],
 "metadata": {
  "kernelspec": {
   "display_name": "base",
   "language": "python",
   "name": "python3"
  },
  "language_info": {
   "codemirror_mode": {
    "name": "ipython",
    "version": 3
   },
   "file_extension": ".py",
   "mimetype": "text/x-python",
   "name": "python",
   "nbconvert_exporter": "python",
   "pygments_lexer": "ipython3",
   "version": "3.13.5"
  }
 },
 "nbformat": 4,
 "nbformat_minor": 5
}
