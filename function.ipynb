{
 "cells": [
  {
   "cell_type": "markdown",
   "id": "dc8bd632",
   "metadata": {},
   "source": [
    "Abstraction\n"
   ]
  },
  {
   "cell_type": "code",
   "execution_count": null,
   "id": "6a6c438b",
   "metadata": {},
   "outputs": [
    {
     "name": "stdout",
     "output_type": "stream",
     "text": [
      "Hello, Ali!\n"
     ]
    }
   ],
   "source": [
    "#Hide complex details and just show what the function does.\n",
    "def greet(name):\n",
    "    return f\"Hello, {name}!\"\n",
    "\n",
    "print(greet(\"Ali\"))\n",
    "\n"
   ]
  },
  {
   "cell_type": "markdown",
   "id": "6b407f46",
   "metadata": {},
   "source": [
    " Encapsulation"
   ]
  },
  {
   "cell_type": "code",
   "execution_count": 1,
   "id": "f528ac82",
   "metadata": {},
   "outputs": [
    {
     "name": "stdout",
     "output_type": "stream",
     "text": [
      "8\n"
     ]
    }
   ],
   "source": [
    "# Keep variables and logic inside the function, separate from the rest of the code.\n",
    "\n",
    "def add(a, b):\n",
    "    result = a + b\n",
    "    return result\n",
    "\n",
    "print(add(5, 3))"
   ]
  },
  {
   "cell_type": "markdown",
   "id": "26fd1b4e",
   "metadata": {},
   "source": [
    "Modularity"
   ]
  },
  {
   "cell_type": "code",
   "execution_count": 6,
   "id": "1403d7ac",
   "metadata": {},
   "outputs": [
    {
     "name": "stdout",
     "output_type": "stream",
     "text": [
      "Hi, Ahmed\n"
     ]
    }
   ],
   "source": [
    "#Break the program into small parts (functions).\n",
    "def input_name():\n",
    "    return \"Ahmed\"  # Simulating input for example\n",
    "\n",
    "def greet(name):\n",
    "    print(f\"Hi, {name}\")\n",
    "\n",
    "name = input_name()\n",
    "greet(name)\n"
   ]
  },
  {
   "cell_type": "markdown",
   "id": "2eed38ef",
   "metadata": {},
   "source": [
    "reusability"
   ]
  },
  {
   "cell_type": "code",
   "execution_count": 3,
   "id": "6ba80e5e",
   "metadata": {},
   "outputs": [
    {
     "name": "stdout",
     "output_type": "stream",
     "text": [
      "4\n",
      "25\n"
     ]
    }
   ],
   "source": [
    "#use again and again\n",
    "def square(x):\n",
    "    return x * x\n",
    "\n",
    "print(square(2))\n",
    "print(square(5))"
   ]
  },
  {
   "cell_type": "markdown",
   "id": "68c2a1d7",
   "metadata": {},
   "source": [
    "Maintainability"
   ]
  },
  {
   "cell_type": "code",
   "execution_count": 7,
   "id": "32ada0bf",
   "metadata": {},
   "outputs": [
    {
     "name": "stdout",
     "output_type": "stream",
     "text": [
      "Welcome to the program!\n"
     ]
    }
   ],
   "source": [
    "def welcome():\n",
    "    print(\"Welcome to the program!\")\n",
    "\n",
    "welcome()"
   ]
  },
  {
   "cell_type": "markdown",
   "id": "fca790b9",
   "metadata": {},
   "source": [
    " Testability"
   ]
  },
  {
   "cell_type": "code",
   "execution_count": 9,
   "id": "aa0a6aad",
   "metadata": {},
   "outputs": [
    {
     "name": "stdout",
     "output_type": "stream",
     "text": [
      "(9, 16)\n"
     ]
    }
   ],
   "source": [
    "def multiply(a, b):\n",
    "    return a * a,b*b\n",
    "\n",
    "print(multiply(3, 4))"
   ]
  },
  {
   "cell_type": "markdown",
   "id": "79b286b9",
   "metadata": {},
   "source": [
    "Positional Arguments"
   ]
  },
  {
   "cell_type": "code",
   "execution_count": null,
   "id": "7975a1a8",
   "metadata": {},
   "outputs": [
    {
     "data": {
      "text/plain": [
       "5"
      ]
     },
     "execution_count": 10,
     "metadata": {},
     "output_type": "execute_result"
    }
   ],
   "source": [
    "def add(a, b):\n",
    "    return a + b\n",
    "\n",
    "add(2, 3)  \n"
   ]
  },
  {
   "cell_type": "markdown",
   "id": "1f8dc667",
   "metadata": {},
   "source": [
    " Keyword Arguments"
   ]
  },
  {
   "cell_type": "code",
   "execution_count": 11,
   "id": "ae27077f",
   "metadata": {},
   "outputs": [
    {
     "data": {
      "text/plain": [
       "5"
      ]
     },
     "execution_count": 11,
     "metadata": {},
     "output_type": "execute_result"
    }
   ],
   "source": [
    "add(b=3, a=2)  # same as above"
   ]
  },
  {
   "cell_type": "markdown",
   "id": "d66b2227",
   "metadata": {},
   "source": [
    " Returning From Functions"
   ]
  },
  {
   "cell_type": "code",
   "execution_count": null,
   "id": "a988c244",
   "metadata": {},
   "outputs": [],
   "source": [
    "#Use return to send a value back from a function\n",
    "def square(x):\n",
    "    return x * x\n",
    "\n"
   ]
  },
  {
   "cell_type": "code",
   "execution_count": null,
   "id": "ecc151c2",
   "metadata": {},
   "outputs": [],
   "source": []
  }
 ],
 "metadata": {
  "kernelspec": {
   "display_name": "base",
   "language": "python",
   "name": "python3"
  },
  "language_info": {
   "codemirror_mode": {
    "name": "ipython",
    "version": 3
   },
   "file_extension": ".py",
   "mimetype": "text/x-python",
   "name": "python",
   "nbconvert_exporter": "python",
   "pygments_lexer": "ipython3",
   "version": "3.13.5"
  }
 },
 "nbformat": 4,
 "nbformat_minor": 5
}
