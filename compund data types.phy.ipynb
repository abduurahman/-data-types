{
 "cells": [
  {
   "cell_type": "code",
   "execution_count": 5,
   "id": "93c192dd",
   "metadata": {},
   "outputs": [
    {
     "name": "stdout",
     "output_type": "stream",
     "text": [
      "Fruits list ['apple', 'banana', 'cherry']\n"
     ]
    }
   ],
   "source": [
    "#Creating Lists Through Literals\n",
    "fruits = [\"apple\", \"banana\", \"cherry\"]\n",
    "print(\"Fruits list\", fruits)\n",
    "#the value inside the braket can be anything\n"
   ]
  },
  {
   "cell_type": "code",
   "execution_count": 6,
   "id": "674055bb",
   "metadata": {},
   "outputs": [
    {
     "name": "stdout",
     "output_type": "stream",
     "text": [
      "Mixed List: [1, 'dog', 3.14, False]\n"
     ]
    }
   ],
   "source": [
    "mixed = [1, \"dog\", 3.14, False]\n",
    "print(\"Mixed List:\", mixed)"
   ]
  },
  {
   "cell_type": "markdown",
   "id": "fee3eb34",
   "metadata": {},
   "source": [
    "Using the list() Constructor\n"
   ]
  },
  {
   "cell_type": "code",
   "execution_count": 10,
   "id": "c7445c82",
   "metadata": {},
   "outputs": [
    {
     "name": "stdout",
     "output_type": "stream",
     "text": [
      "Letters: ['h', 'e', 'l', 'l', 'o']\n"
     ]
    }
   ],
   "source": [
    "letters = list(\"hello\")\n",
    "print(\"Letters:\", letters)\n",
    "\n",
    "#The list() constructor creates a new list from something that can be looped"
   ]
  },
  {
   "cell_type": "markdown",
   "id": "2f79f8ec",
   "metadata": {},
   "source": [
    "Accessing Items in a List: Indexing\n"
   ]
  },
  {
   "cell_type": "code",
   "execution_count": 14,
   "id": "7dde10b7",
   "metadata": {},
   "outputs": [
    {
     "name": "stdout",
     "output_type": "stream",
     "text": [
      "First color: red\n",
      "green\n"
     ]
    }
   ],
   "source": [
    "#Indexing means getting an item from a list by its position \n",
    "colors = [\"red\", \"green\", \"blue\", \"yellow\"]\n",
    "print(\"First color:\", colors[0]) \n",
    "print(colors[1] )"
   ]
  },
  {
   "cell_type": "markdown",
   "id": "358210a4",
   "metadata": {},
   "source": [
    "Retrieving Multiple Items From a List: Slicing\n"
   ]
  },
  {
   "cell_type": "code",
   "execution_count": 18,
   "id": "5749dcfb",
   "metadata": {},
   "outputs": [
    {
     "name": "stdout",
     "output_type": "stream",
     "text": [
      "Sliced list (1 to 3): ['dog', 'rabbit', 'parrot']\n"
     ]
    }
   ],
   "source": [
    "animals = [\"cat\", \"dog\", \"rabbit\", \"parrot\", ]\n",
    "\n",
    "print(\"Sliced list (1 to 3):\", some_animals) "
   ]
  },
  {
   "cell_type": "markdown",
   "id": "a69be5bc",
   "metadata": {},
   "source": [
    "Creating Copies of a List\n"
   ]
  },
  {
   "cell_type": "code",
   "execution_count": 26,
   "id": "4d0c9093",
   "metadata": {},
   "outputs": [
    {
     "name": "stdout",
     "output_type": "stream",
     "text": [
      "Copy 1: ['a', 'b', 'c']\n",
      "original [0] d\n"
     ]
    }
   ],
   "source": [
    "#When you copy a list, you make a new list with the same items\n",
    "original = [\"a\", \"b\", \"c\"]\n",
    "copy1 = original[:]\n",
    "print(\"Copy 1:\", copy1) \n",
    "original[0] = \"d\"    \n",
    "print( \"original [0]\",original[0])"
   ]
  },
  {
   "cell_type": "markdown",
   "id": "17e41723",
   "metadata": {},
   "source": [
    "Updating Items in Lists: Index Assignments\n"
   ]
  },
  {
   "cell_type": "code",
   "execution_count": 30,
   "id": "4c79f7e9",
   "metadata": {},
   "outputs": [
    {
     "name": "stdout",
     "output_type": "stream",
     "text": [
      "Updated colors list: ['red', 'yellow', 'purple']\n"
     ]
    }
   ],
   "source": [
    "#You can change an item in a list by pointing to its index and giving it a new value:\n",
    "colors = [\"red\", \"green\", \"blue\"]\n",
    "colors[1] = \"yellow\"\n",
    "colors[-1] = \"purple\"\n",
    "print(\"Updated colors list:\", colors)\n"
   ]
  },
  {
   "cell_type": "markdown",
   "id": "bed9aab4",
   "metadata": {},
   "source": [
    "Growing and Shrinking Lists Dynamically\n"
   ]
  },
  {
   "cell_type": "code",
   "execution_count": 1,
   "id": "0bc91dec",
   "metadata": {},
   "outputs": [
    {
     "name": "stdout",
     "output_type": "stream",
     "text": [
      "['apple', 'banana', 'cherry']\n"
     ]
    }
   ],
   "source": [
    "fruits = ['apple', 'banana']\n",
    "fruits.append('cherry')\n",
    "print(fruits)  # ['apple', 'banana', 'cherry']"
   ]
  },
  {
   "cell_type": "markdown",
   "id": "7e069d02",
   "metadata": {},
   "source": [
    "cancatenating list \n"
   ]
  },
  {
   "cell_type": "code",
   "execution_count": 2,
   "id": "f9a4da1b",
   "metadata": {},
   "outputs": [
    {
     "name": "stdout",
     "output_type": "stream",
     "text": [
      "[1, 2, 3, 4, 5]\n"
     ]
    }
   ],
   "source": [
    "list1 = [1, 2, 3]\n",
    "list2 = [4, 5]\n",
    "combined = list1 + list2\n",
    "print(combined)"
   ]
  },
  {
   "cell_type": "markdown",
   "id": "0bdd653f",
   "metadata": {},
   "source": [
    "Reversing and Sorting Lists"
   ]
  },
  {
   "cell_type": "code",
   "execution_count": 3,
   "id": "001999e7",
   "metadata": {},
   "outputs": [
    {
     "name": "stdout",
     "output_type": "stream",
     "text": [
      "[4, 3, 2, 1]\n"
     ]
    }
   ],
   "source": [
    "numbers = [1, 2, 3, 4]\n",
    "numbers.reverse()\n",
    "print(numbers)"
   ]
  },
  {
   "cell_type": "markdown",
   "id": "07e8d2d9",
   "metadata": {},
   "source": [
    "Traversing Lists\n"
   ]
  },
  {
   "cell_type": "code",
   "execution_count": 4,
   "id": "fdaf7162",
   "metadata": {},
   "outputs": [
    {
     "name": "stdout",
     "output_type": "stream",
     "text": [
      "red\n",
      "green\n",
      "blue\n"
     ]
    }
   ],
   "source": [
    "colors = ['red', 'green', 'blue']\n",
    "for color in colors:\n",
    "    print(color)"
   ]
  },
  {
   "cell_type": "markdown",
   "id": "df76bff2",
   "metadata": {},
   "source": [
    "Subclassing the Built-In list Class"
   ]
  },
  {
   "cell_type": "code",
   "execution_count": 9,
   "id": "d8d43ac2",
   "metadata": {},
   "outputs": [
    {
     "name": "stdout",
     "output_type": "stream",
     "text": [
      "[1, 2, 3, 4]\n"
     ]
    }
   ],
   "source": [
    "class MyList(list):\n",
    "    pass\n",
    "\n",
    "ml = MyList([1, 2, 3])\n",
    "ml.append(4)\n",
    "print(ml) "
   ]
  },
  {
   "cell_type": "markdown",
   "id": "3134f557",
   "metadata": {},
   "source": [
    "Putting Lists Into Action"
   ]
  },
  {
   "cell_type": "code",
   "execution_count": 10,
   "id": "95ed6920",
   "metadata": {},
   "outputs": [
    {
     "name": "stdout",
     "output_type": "stream",
     "text": [
      "Average score: 81.25\n"
     ]
    }
   ],
   "source": [
    "scores = [80, 90, 85, 70]\n",
    "average = sum(scores) / len(scores)\n",
    "print(f\"Average score: {average}\") "
   ]
  }
 ],
 "metadata": {
  "kernelspec": {
   "display_name": "base",
   "language": "python",
   "name": "python3"
  },
  "language_info": {
   "codemirror_mode": {
    "name": "ipython",
    "version": 3
   },
   "file_extension": ".py",
   "mimetype": "text/x-python",
   "name": "python",
   "nbconvert_exporter": "python",
   "pygments_lexer": "ipython3",
   "version": "3.13.5"
  }
 },
 "nbformat": 4,
 "nbformat_minor": 5
}
