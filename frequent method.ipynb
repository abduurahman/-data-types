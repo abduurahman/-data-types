{
 "cells": [
  {
   "cell_type": "markdown",
   "id": "d37cb6c4",
   "metadata": {},
   "source": [
    "enumerate()"
   ]
  },
  {
   "cell_type": "code",
   "execution_count": 2,
   "id": "0210b457",
   "metadata": {},
   "outputs": [
    {
     "name": "stdout",
     "output_type": "stream",
     "text": [
      "0 apple\n",
      "1 banana\n",
      "2 cherry\n"
     ]
    }
   ],
   "source": [
    "# we use it for index number and value\n",
    "fruits = [\"apple\", \"banana\", \"cherry\"]\n",
    "for i, fruit in enumerate(fruits):\n",
    "    print(i, fruit)"
   ]
  },
  {
   "cell_type": "markdown",
   "id": "f663c512",
   "metadata": {},
   "source": [
    " zip()"
   ]
  },
  {
   "cell_type": "code",
   "execution_count": 16,
   "id": "e1786781",
   "metadata": {},
   "outputs": [
    {
     "name": "stdout",
     "output_type": "stream",
     "text": [
      "ali [20, 25]\n",
      "sara [20, 25]\n"
     ]
    }
   ],
   "source": [
    "#it is use two combine two or more\n",
    "names =[\"ali\" , \"sara\"]\n",
    "ages =[20,25]\n",
    "for name ,age in zip(names, ages):\n",
    "    print (name, ages)\n"
   ]
  },
  {
   "cell_type": "markdown",
   "id": "069f264d",
   "metadata": {},
   "source": [
    "map()"
   ]
  },
  {
   "cell_type": "code",
   "execution_count": 2,
   "id": "def0200b",
   "metadata": {},
   "outputs": [
    {
     "name": "stdout",
     "output_type": "stream",
     "text": [
      "[1, 4, 9]\n"
     ]
    }
   ],
   "source": [
    "# for example we have a list of number and we want to double it\n",
    "nums = [1 ,2, 3]\n",
    "squared = list(map(lambda x: x**2, nums))\n",
    "print (squared)"
   ]
  },
  {
   "cell_type": "markdown",
   "id": "a8d09dc4",
   "metadata": {},
   "source": [
    "filter()"
   ]
  },
  {
   "cell_type": "code",
   "execution_count": null,
   "id": "c5eb8420",
   "metadata": {},
   "outputs": [
    {
     "name": "stdout",
     "output_type": "stream",
     "text": [
      "[2, 4]\n"
     ]
    }
   ],
   "source": [
    "# it fillter the values\n",
    "nums = [1, 2, 3, 4]\n",
    "even_nums= list(filter(lambda x: x % 2 == 0, nums))\n",
    "print(even_nums)"
   ]
  },
  {
   "cell_type": "markdown",
   "id": "50cbfac4",
   "metadata": {},
   "source": [
    "sorted"
   ]
  },
  {
   "cell_type": "code",
   "execution_count": null,
   "id": "6574ffeb",
   "metadata": {},
   "outputs": [
    {
     "name": "stdout",
     "output_type": "stream",
     "text": [
      "[4, 31, 111]\n"
     ]
    }
   ],
   "source": [
    "# it write fist short number than long number\n",
    "nums = [31, 111, 4]\n",
    "print(sorted(nums)) "
   ]
  },
  {
   "cell_type": "markdown",
   "id": "6fcc85cc",
   "metadata": {},
   "source": [
    "reversed()"
   ]
  },
  {
   "cell_type": "code",
   "execution_count": 14,
   "id": "b00b508e",
   "metadata": {},
   "outputs": [
    {
     "name": "stdout",
     "output_type": "stream",
     "text": [
      "[4, 3, 2, 1]\n"
     ]
    }
   ],
   "source": [
    "numberss=[1 ,2 ,3, 4]\n",
    "print(list(reversed(numberss)))"
   ]
  },
  {
   "cell_type": "markdown",
   "id": "ff6a19fe",
   "metadata": {},
   "source": [
    "range()"
   ]
  },
  {
   "cell_type": "code",
   "execution_count": 17,
   "id": "c14d3d6f",
   "metadata": {},
   "outputs": [
    {
     "name": "stdout",
     "output_type": "stream",
     "text": [
      "0\n",
      "1\n",
      "2\n",
      "3\n",
      "4\n"
     ]
    }
   ],
   "source": [
    "for i in range(5):\n",
    "    print(i)"
   ]
  },
  {
   "cell_type": "markdown",
   "id": "89382271",
   "metadata": {},
   "source": [
    " any()"
   ]
  },
  {
   "cell_type": "code",
   "execution_count": 19,
   "id": "4dc91c87",
   "metadata": {},
   "outputs": [
    {
     "name": "stdout",
     "output_type": "stream",
     "text": [
      "True\n"
     ]
    }
   ],
   "source": [
    "# true or false\n",
    "numbers = [-5, -2, 3, -1]\n",
    "\n",
    "result = any(num > 0 for num in numbers)\n",
    "print(result) "
   ]
  },
  {
   "cell_type": "markdown",
   "id": "bfefe693",
   "metadata": {},
   "source": [
    "all()"
   ]
  },
  {
   "cell_type": "code",
   "execution_count": 21,
   "id": "2404b767",
   "metadata": {},
   "outputs": [
    {
     "name": "stdout",
     "output_type": "stream",
     "text": [
      "True\n",
      "False\n"
     ]
    }
   ],
   "source": [
    "# return true of all item or truley\n",
    "print(all([1, 2, 3]))  #true\n",
    "print(all([1, 0, 3]))"
   ]
  },
  {
   "cell_type": "markdown",
   "id": "6591e236",
   "metadata": {},
   "source": [
    "type()"
   ]
  },
  {
   "cell_type": "code",
   "execution_count": 22,
   "id": "4b5a8a6d",
   "metadata": {},
   "outputs": [
    {
     "name": "stdout",
     "output_type": "stream",
     "text": [
      "<class 'int'>\n"
     ]
    }
   ],
   "source": [
    "#return the type of an object\n",
    "print(type(5))  "
   ]
  },
  {
   "cell_type": "markdown",
   "id": "411be8f7",
   "metadata": {},
   "source": [
    "len()"
   ]
  },
  {
   "cell_type": "code",
   "execution_count": 23,
   "id": "9c7e563e",
   "metadata": {},
   "outputs": [
    {
     "name": "stdout",
     "output_type": "stream",
     "text": [
      "3\n"
     ]
    }
   ],
   "source": [
    "print(len([1, 2, 3])) "
   ]
  },
  {
   "cell_type": "markdown",
   "id": "3f6b4baa",
   "metadata": {},
   "source": [
    "sum()"
   ]
  },
  {
   "cell_type": "code",
   "execution_count": 25,
   "id": "bcfd04cf",
   "metadata": {},
   "outputs": [
    {
     "name": "stdout",
     "output_type": "stream",
     "text": [
      "6\n"
     ]
    }
   ],
   "source": [
    "print(sum([1, 2, 3]))"
   ]
  },
  {
   "cell_type": "markdown",
   "id": "4750ae55",
   "metadata": {},
   "source": [
    " max()"
   ]
  },
  {
   "cell_type": "code",
   "execution_count": 26,
   "id": "a4883e24",
   "metadata": {},
   "outputs": [
    {
     "name": "stdout",
     "output_type": "stream",
     "text": [
      "9\n"
     ]
    }
   ],
   "source": [
    "# return bigest value\n",
    "print(max([1, 9, 3]))"
   ]
  },
  {
   "cell_type": "markdown",
   "id": "92f7b51b",
   "metadata": {},
   "source": [
    " min()"
   ]
  },
  {
   "cell_type": "code",
   "execution_count": 29,
   "id": "197091ce",
   "metadata": {},
   "outputs": [
    {
     "name": "stdout",
     "output_type": "stream",
     "text": [
      "1\n"
     ]
    }
   ],
   "source": [
    "#return minimum vsalue\n",
    "print(min([1 ,2 ,3]))"
   ]
  },
  {
   "cell_type": "markdown",
   "id": "2b49145f",
   "metadata": {},
   "source": [
    "abs()"
   ]
  },
  {
   "cell_type": "code",
   "execution_count": 32,
   "id": "7907f8dc",
   "metadata": {},
   "outputs": [
    {
     "name": "stdout",
     "output_type": "stream",
     "text": [
      "5\n"
     ]
    }
   ],
   "source": [
    "#return absolute (positive value)\n",
    "print(abs(-5)) "
   ]
  },
  {
   "cell_type": "markdown",
   "id": "d291c9b0",
   "metadata": {},
   "source": [
    "round()"
   ]
  },
  {
   "cell_type": "code",
   "execution_count": 35,
   "id": "70217de7",
   "metadata": {},
   "outputs": [
    {
     "name": "stdout",
     "output_type": "stream",
     "text": [
      "5.33\n"
     ]
    }
   ],
   "source": [
    "print(round(5.3316, 2)) "
   ]
  },
  {
   "cell_type": "markdown",
   "id": "b08d627a",
   "metadata": {},
   "source": [
    "pow()"
   ]
  },
  {
   "cell_type": "code",
   "execution_count": 36,
   "id": "01e4db72",
   "metadata": {},
   "outputs": [
    {
     "name": "stdout",
     "output_type": "stream",
     "text": [
      "8\n"
     ]
    }
   ],
   "source": [
    "print(pow(2, 3))"
   ]
  },
  {
   "cell_type": "code",
   "execution_count": null,
   "id": "4aafdc64",
   "metadata": {},
   "outputs": [],
   "source": []
  }
 ],
 "metadata": {
  "kernelspec": {
   "display_name": "sum25",
   "language": "python",
   "name": "python3"
  },
  "language_info": {
   "codemirror_mode": {
    "name": "ipython",
    "version": 3
   },
   "file_extension": ".py",
   "mimetype": "text/x-python",
   "name": "python",
   "nbconvert_exporter": "python",
   "pygments_lexer": "ipython3",
   "version": "3.11.13"
  }
 },
 "nbformat": 4,
 "nbformat_minor": 5
}
