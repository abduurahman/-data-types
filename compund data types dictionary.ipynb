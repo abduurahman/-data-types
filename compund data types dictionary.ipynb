{
 "cells": [
  {
   "cell_type": "markdown",
   "id": "8fe8830e",
   "metadata": {},
   "source": [
    "Creating Dictionaries in Python\n",
    "\n",
    "\n"
   ]
  },
  {
   "cell_type": "code",
   "execution_count": null,
   "id": "3ff7ca6d",
   "metadata": {},
   "outputs": [],
   "source": []
  },
  {
   "cell_type": "markdown",
   "id": "b599459d",
   "metadata": {},
   "source": [
    "Dictionary Literals\n",
    "\n"
   ]
  },
  {
   "cell_type": "code",
   "execution_count": null,
   "id": "ec2d2df4",
   "metadata": {},
   "outputs": [
    {
     "name": "stdout",
     "output_type": "stream",
     "text": [
      "Alice\n"
     ]
    }
   ],
   "source": [
    "person = {\"name\": \"ahsan\": 25, \"city\": \"New York\"}\n",
    "print(person[\"name\"])  "
   ]
  },
  {
   "cell_type": "markdown",
   "id": "4d6b5226",
   "metadata": {},
   "source": [
    "The dict() Constructor\n",
    "d"
   ]
  },
  {
   "cell_type": "code",
   "execution_count": null,
   "id": "fe4f15dd",
   "metadata": {},
   "outputs": [],
   "source": []
  },
  {
   "cell_type": "markdown",
   "id": "52125e3f",
   "metadata": {},
   "source": [
    "Using the .fromkeys() Class Method"
   ]
  },
  {
   "cell_type": "code",
   "execution_count": null,
   "id": "23838b9a",
   "metadata": {},
   "outputs": [],
   "source": []
  }
 ],
 "metadata": {
  "kernelspec": {
   "display_name": "base",
   "language": "python",
   "name": "python3"
  },
  "language_info": {
   "codemirror_mode": {
    "name": "ipython",
    "version": 3
   },
   "file_extension": ".py",
   "mimetype": "text/x-python",
   "name": "python",
   "nbconvert_exporter": "python",
   "pygments_lexer": "ipython3",
   "version": "3.13.5"
  }
 },
 "nbformat": 4,
 "nbformat_minor": 5
}
