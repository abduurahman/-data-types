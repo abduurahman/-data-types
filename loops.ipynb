{
 "cells": [
  {
   "cell_type": "markdown",
   "id": "e7de66be",
   "metadata": {},
   "source": [
    "Traversing Built-in Collections in Python\n"
   ]
  },
  {
   "cell_type": "markdown",
   "id": "964d920c",
   "metadata": {},
   "source": [
    "Looping Through a List\n"
   ]
  },
  {
   "cell_type": "code",
   "execution_count": 4,
   "id": "1b73c257",
   "metadata": {},
   "outputs": [
    {
     "name": "stdout",
     "output_type": "stream",
     "text": [
      "red\n",
      "blue\n",
      "white\n"
     ]
    }
   ],
   "source": [
    "colors=[\"red\",\"blue\",\"white\"]\n",
    "for color in colors:\n",
    "    print(color)"
   ]
  },
  {
   "cell_type": "markdown",
   "id": "fe3149a5",
   "metadata": {},
   "source": [
    "Looping Through a Tuple\n"
   ]
  },
  {
   "cell_type": "code",
   "execution_count": 8,
   "id": "02bcf18f",
   "metadata": {},
   "outputs": [
    {
     "name": "stdout",
     "output_type": "stream",
     "text": [
      "3\n",
      "4\n"
     ]
    }
   ],
   "source": [
    "point = (3, 4)\n",
    "for value in  point:\n",
    "    print(value)"
   ]
  },
  {
   "cell_type": "markdown",
   "id": "f4e00c13",
   "metadata": {},
   "source": [
    "looping through a string"
   ]
  },
  {
   "cell_type": "code",
   "execution_count": 6,
   "id": "880cd540",
   "metadata": {},
   "outputs": [
    {
     "name": "stdout",
     "output_type": "stream",
     "text": [
      "h\n",
      "i\n"
     ]
    }
   ],
   "source": [
    "for letter in \"hi\":\n",
    "    print(letter)"
   ]
  },
  {
   "cell_type": "markdown",
   "id": "a8fbb2d3",
   "metadata": {},
   "source": [
    "Looping Through a Range"
   ]
  },
  {
   "cell_type": "code",
   "execution_count": 9,
   "id": "9b30f3a5",
   "metadata": {},
   "outputs": [
    {
     "name": "stdout",
     "output_type": "stream",
     "text": [
      "0\n",
      "1\n",
      "2\n"
     ]
    }
   ],
   "source": [
    "for i in range(3):\n",
    "    print(i)"
   ]
  },
  {
   "cell_type": "markdown",
   "id": "af2f3cc3",
   "metadata": {},
   "source": [
    " Looping Through a Dictionary (keys)"
   ]
  },
  {
   "cell_type": "code",
   "execution_count": 21,
   "id": "918619de",
   "metadata": {},
   "outputs": [
    {
     "name": "stdout",
     "output_type": "stream",
     "text": [
      "name\n",
      "age\n"
     ]
    }
   ],
   "source": [
    "person = {\"name\" :\"ali\",\"age\":20}\n",
    "\n",
    "for key in person:\n",
    "    print(key)"
   ]
  },
  {
   "cell_type": "markdown",
   "id": "c28ff8f3",
   "metadata": {},
   "source": [
    " Looping Through Dictionary Items (key + value)"
   ]
  },
  {
   "cell_type": "code",
   "execution_count": 15,
   "id": "525c2b53",
   "metadata": {},
   "outputs": [
    {
     "name": "stdout",
     "output_type": "stream",
     "text": [
      "name ali\n",
      "age 20\n"
     ]
    }
   ],
   "source": [
    "for key, value in person.items():\n",
    "    print(key, value)"
   ]
  },
  {
   "cell_type": "markdown",
   "id": "13efe8b2",
   "metadata": {},
   "source": [
    "Looping Through a Set"
   ]
  },
  {
   "cell_type": "code",
   "execution_count": 22,
   "id": "0b18bd4d",
   "metadata": {},
   "outputs": [
    {
     "name": "stdout",
     "output_type": "stream",
     "text": [
      "banana\n",
      "apple\n",
      "cherry\n"
     ]
    }
   ],
   "source": [
    "fruits = {\"apple\", \"banana\", \"cherry\"}\n",
    "for fruit in fruits:\n",
    "    print(fruit)"
   ]
  },
  {
   "cell_type": "markdown",
   "id": "87488173",
   "metadata": {},
   "source": [
    "The break Statement"
   ]
  },
  {
   "cell_type": "code",
   "execution_count": 30,
   "id": "7c139ee2",
   "metadata": {},
   "outputs": [
    {
     "name": "stdout",
     "output_type": "stream",
     "text": [
      "0\n",
      "1\n",
      "2\n",
      "3\n",
      "4\n"
     ]
    }
   ],
   "source": [
    "for number in range(10):\n",
    "    if number == 5:\n",
    "        break\n",
    "    print(number)"
   ]
  },
  {
   "cell_type": "markdown",
   "id": "42d6fb4f",
   "metadata": {},
   "source": [
    "The continue Statement\n"
   ]
  },
  {
   "cell_type": "code",
   "execution_count": 37,
   "id": "61e9c63f",
   "metadata": {},
   "outputs": [
    {
     "name": "stdout",
     "output_type": "stream",
     "text": [
      "0\n",
      "1\n",
      "3\n",
      "4\n"
     ]
    }
   ],
   "source": [
    "for number in range(5):\n",
    "    if number == 2:\n",
    "        continue\n",
    "    print(number)"
   ]
  },
  {
   "cell_type": "markdown",
   "id": "e24c5485",
   "metadata": {},
   "source": [
    "The else Clause"
   ]
  },
  {
   "cell_type": "code",
   "execution_count": 40,
   "id": "8262b7ca",
   "metadata": {},
   "outputs": [
    {
     "name": "stdout",
     "output_type": "stream",
     "text": [
      "0\n",
      "1\n",
      "2\n"
     ]
    }
   ],
   "source": [
    "for number in range(5):\n",
    "    if number == 3:\n",
    "        break\n",
    "    print(number)# loop fineshed when it reach to three number\n",
    "else:\n",
    "    print(\"Loop finished\")"
   ]
  },
  {
   "cell_type": "markdown",
   "id": "a8568a75",
   "metadata": {},
   "source": [
    "Nested for Loops"
   ]
  },
  {
   "cell_type": "code",
   "execution_count": 41,
   "id": "346a7f22",
   "metadata": {},
   "outputs": [
    {
     "name": "stdout",
     "output_type": "stream",
     "text": [
      "x=0, y=0\n",
      "x=0, y=1\n",
      "x=0, y=2\n",
      "x=1, y=0\n",
      "x=1, y=1\n",
      "x=1, y=2\n"
     ]
    }
   ],
   "source": [
    "for x in range(2):        # outer loop\n",
    "    for y in range(3):    # inner loop\n",
    "        print(f\"x={x}, y={y}\")"
   ]
  },
  {
   "cell_type": "markdown",
   "id": "392b81d8",
   "metadata": {},
   "source": [
    "Iterating With Indices: The Pythonic Way"
   ]
  },
  {
   "cell_type": "code",
   "execution_count": null,
   "id": "0aded57b",
   "metadata": {},
   "outputs": [
    {
     "name": "stdout",
     "output_type": "stream",
     "text": [
      "0 red\n",
      "1 green\n",
      "2 blue\n"
     ]
    }
   ],
   "source": [
    "# we use enumerate for index and value\n",
    "colors = [\"red\", \"green\", \"blue\"]\n",
    "for i, color in enumerate(colors):\n",
    "    print(i, color)"
   ]
  },
  {
   "cell_type": "markdown",
   "id": "bc4eee5f",
   "metadata": {},
   "source": [
    "Looping Over Several Iterables in Parallel"
   ]
  },
  {
   "cell_type": "code",
   "execution_count": null,
   "id": "5fb882ed",
   "metadata": {},
   "outputs": [
    {
     "name": "stdout",
     "output_type": "stream",
     "text": [
      "Ali 90\n",
      "Sara 85\n",
      "Omar 88\n"
     ]
    }
   ],
   "source": [
    "# we Use zip() to loop over multiple lists together:\n",
    "names = [\"Ali\", \"Sara\", \"Omar\"]\n",
    "scores = [90, 85, 88]\n",
    "\n",
    "for name, score in zip(names, scores):\n",
    "    print(name, score)"
   ]
  },
  {
   "cell_type": "markdown",
   "id": "d9f329a2",
   "metadata": {},
   "source": [
    " Iterating Over Multiple Iterables Sequentially"
   ]
  },
  {
   "cell_type": "code",
   "execution_count": 44,
   "id": "091622c1",
   "metadata": {},
   "outputs": [
    {
     "name": "stdout",
     "output_type": "stream",
     "text": [
      "1\n",
      "2\n",
      "3\n",
      "4\n"
     ]
    }
   ],
   "source": [
    " # Use itertools.chain() to combine multiple lists and loop over them like one:\n",
    "import itertools\n",
    "\n",
    "list1 = [1, 2]\n",
    "list2 = [3, 4]\n",
    "\n",
    "for number in itertools.chain(list1, list2):\n",
    "    print(number)"
   ]
  },
  {
   "cell_type": "markdown",
   "id": "0a1f6fe2",
   "metadata": {},
   "source": [
    " Repeating Actions a Predefined Number of Times"
   ]
  },
  {
   "cell_type": "code",
   "execution_count": null,
   "id": "40a1457f",
   "metadata": {},
   "outputs": [
    {
     "name": "stdout",
     "output_type": "stream",
     "text": [
      "Hello\n",
      "Hello\n",
      "Hello\n"
     ]
    }
   ],
   "source": [
    "#Use range(n) to repeat something n times:\n",
    "for _ in range(3):\n",
    "    print(\"Hello\")"
   ]
  },
  {
   "cell_type": "markdown",
   "id": "20c83470",
   "metadata": {},
   "source": [
    "Iterating Over Reversed and Sorted Iterables"
   ]
  },
  {
   "cell_type": "code",
   "execution_count": null,
   "id": "f94db3e2",
   "metadata": {},
   "outputs": [
    {
     "name": "stdout",
     "output_type": "stream",
     "text": [
      "3\n",
      " \n",
      "2\n",
      " \n",
      "1\n"
     ]
    }
   ],
   "source": [
    "# we use reversedfor reversed\n",
    "\n",
    "for char in reversed(\"1 2 3\"):\n",
    "    \n",
    "    print(char)"
   ]
  },
  {
   "cell_type": "markdown",
   "id": "e340afc2",
   "metadata": {},
   "source": [
    "Changing the Loop Variable"
   ]
  },
  {
   "cell_type": "code",
   "execution_count": 52,
   "id": "f7006442",
   "metadata": {},
   "outputs": [
    {
     "name": "stdout",
     "output_type": "stream",
     "text": [
      "HI\n",
      "HELLO\n",
      "HEY\n",
      "['hi', 'hello', 'hey']\n"
     ]
    }
   ],
   "source": [
    "words = [\"hi\", \"hello\", \"hey\"]\n",
    "for word in words:\n",
    "    word = word.upper()\n",
    "    print(word)\n",
    "\n",
    "print(words)"
   ]
  },
  {
   "cell_type": "markdown",
   "id": "2bf337ef",
   "metadata": {},
   "source": [
    "Using for Loops vs Comprehensions"
   ]
  },
  {
   "cell_type": "code",
   "execution_count": 55,
   "id": "c98c6be0",
   "metadata": {},
   "outputs": [],
   "source": [
    "squares = []\n",
    "for x in range(5):\n",
    "    squares.append(x**2)\n",
    "    squares = [x**2 for x in range(5)]"
   ]
  }
 ],
 "metadata": {
  "kernelspec": {
   "display_name": "base",
   "language": "python",
   "name": "python3"
  },
  "language_info": {
   "codemirror_mode": {
    "name": "ipython",
    "version": 3
   },
   "file_extension": ".py",
   "mimetype": "text/x-python",
   "name": "python",
   "nbconvert_exporter": "python",
   "pygments_lexer": "ipython3",
   "version": "3.13.5"
  }
 },
 "nbformat": 4,
 "nbformat_minor": 5
}
